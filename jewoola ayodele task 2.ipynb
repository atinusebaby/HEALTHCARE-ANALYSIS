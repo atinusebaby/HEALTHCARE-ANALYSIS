{
 "cells": [
  {
   "cell_type": "markdown",
   "id": "225c3a5a-8503-4534-8e22-f0839327651e",
   "metadata": {},
   "source": [
    "## USER SCORE"
   ]
  },
  {
   "cell_type": "code",
   "execution_count": 80,
   "id": "7c55ed63-4228-4c91-b28d-8103d82dc08b",
   "metadata": {},
   "outputs": [
    {
     "name": "stdin",
     "output_type": "stream",
     "text": [
      "put your score:  70\n"
     ]
    },
    {
     "name": "stdout",
     "output_type": "stream",
     "text": [
      "C\n"
     ]
    }
   ],
   "source": [
    "score = int(input(\"put your score: \"))\n",
    "if score >= 90:\n",
    "    print(\"A\")\n",
    "elif score >= 80:\n",
    "    print(\"B\")\n",
    "elif score >= 70:\n",
    "    print(\"C\")\n",
    "elif score >= 60:\n",
    "    print(\"D\")\n",
    "elif score < 60:\n",
    "    print(\"F\")"
   ]
  },
  {
   "cell_type": "code",
   "execution_count": 82,
   "id": "b48482af-70b4-4f29-9b72-525f1f9b3b79",
   "metadata": {},
   "outputs": [
    {
     "name": "stdin",
     "output_type": "stream",
     "text": [
      "put your score:  40\n"
     ]
    },
    {
     "name": "stdout",
     "output_type": "stream",
     "text": [
      "F\n"
     ]
    }
   ],
   "source": [
    "score = int(input(\"put your score: \"))\n",
    "if score >= 90:\n",
    "    print(\"A\")\n",
    "elif score >= 80:\n",
    "    print(\"B\")\n",
    "elif score >= 70:\n",
    "    print(\"C\")\n",
    "elif score >= 60:\n",
    "    print(\"D\")\n",
    "elif score < 60:\n",
    "    print(\"F\")"
   ]
  },
  {
   "cell_type": "markdown",
   "id": "6c895bf7-83de-4a6b-a23c-afadf4a6500a",
   "metadata": {},
   "source": [
    "## Simple Number Game"
   ]
  },
  {
   "cell_type": "code",
   "execution_count": 1,
   "id": "db1829fa-a49d-49ac-9189-7d93846039ca",
   "metadata": {},
   "outputs": [],
   "source": [
    "# user guess a number between 1 to 10\n",
    "def guess_number(*numbers):\n",
    "    result = range(1, 10, 3)\n",
    "    return result"
   ]
  },
  {
   "cell_type": "code",
   "execution_count": 3,
   "id": "67159756-0ce1-4df5-8c77-d1986614e8d1",
   "metadata": {},
   "outputs": [
    {
     "name": "stdout",
     "output_type": "stream",
     "text": [
      "1\n",
      "4\n",
      "7\n"
     ]
    }
   ],
   "source": [
    "# to give them 3 chances\n",
    "guess_number(range(1, 10))\n",
    "for num in range(1, 10, 3):\n",
    "    print(num)"
   ]
  },
  {
   "cell_type": "code",
   "execution_count": 43,
   "id": "842846ea-007d-450f-8c85-595795560fe7",
   "metadata": {},
   "outputs": [
    {
     "name": "stdin",
     "output_type": "stream",
     "text": [
      "enter guess_number:  5\n"
     ]
    },
    {
     "name": "stdout",
     "output_type": "stream",
     "text": [
      "lose\n"
     ]
    }
   ],
   "source": [
    "# use a conditionals to check if the guess is correct\n",
    "guess_number = int(input(\"enter guess_number: \"))\n",
    "if guess_number == range(1, 10, 3):\n",
    "    print(\"win\")\n",
    "else:\n",
    "    print(\"lose\")"
   ]
  },
  {
   "cell_type": "markdown",
   "id": "5a69d8f6-a3f2-4f78-8780-ec5251ba3445",
   "metadata": {},
   "source": [
    "## Multiplication Table Generator"
   ]
  },
  {
   "cell_type": "code",
   "execution_count": 142,
   "id": "b8275833-a0e8-461d-9873-b1e09ba09514",
   "metadata": {},
   "outputs": [
    {
     "name": "stdin",
     "output_type": "stream",
     "text": [
      "Please enter a number: 5\n"
     ]
    },
    {
     "name": "stdout",
     "output_type": "stream",
     "text": [
      "5\n"
     ]
    }
   ],
   "source": [
    "number = input(\"Please enter a number:\")\n",
    "\n",
    "print(number)"
   ]
  },
  {
   "cell_type": "code",
   "execution_count": 134,
   "id": "60ddcf6d-82c3-4752-be58-10be3b33d519",
   "metadata": {},
   "outputs": [],
   "source": [
    "# Ask the user for a number\n",
    "multiplication_table = []\n",
    "for num in range(1, 13):\n",
    "    if num *2 == 0:\n",
    "        multiplication_table.append(num)"
   ]
  },
  {
   "cell_type": "code",
   "execution_count": 136,
   "id": "b4502139-4db6-4bf8-bfb2-49fe59f0e21d",
   "metadata": {},
   "outputs": [],
   "source": [
    "# To design a program that will print a multiplication table.\n",
    "multiplication_table = [num *2 for num in range(1, 13)]"
   ]
  },
  {
   "cell_type": "code",
   "execution_count": 138,
   "id": "2b57efa9-4985-4d9e-845e-171680a0a251",
   "metadata": {},
   "outputs": [
    {
     "name": "stdout",
     "output_type": "stream",
     "text": [
      "[2, 4, 6, 8, 10, 12, 14, 16, 18, 20, 22, 24]\n"
     ]
    }
   ],
   "source": [
    "generate_table = (print(multiplication_table))"
   ]
  },
  {
   "cell_type": "code",
   "execution_count": 140,
   "id": "fddc4e20-6fc0-4d2a-af05-dcceae0da563",
   "metadata": {},
   "outputs": [
    {
     "name": "stdout",
     "output_type": "stream",
     "text": [
      "[2, 4, 6, 8, 10, 12, 14, 16, 18, 20, 22, 24]\n",
      "[2, 4, 6, 8, 10, 12, 14, 16, 18, 20, 22, 24]\n",
      "[2, 4, 6, 8, 10, 12, 14, 16, 18, 20, 22, 24]\n",
      "[2, 4, 6, 8, 10, 12, 14, 16, 18, 20, 22, 24]\n",
      "[2, 4, 6, 8, 10, 12, 14, 16, 18, 20, 22, 24]\n",
      "[2, 4, 6, 8, 10, 12, 14, 16, 18, 20, 22, 24]\n",
      "[2, 4, 6, 8, 10, 12, 14, 16, 18, 20, 22, 24]\n",
      "[2, 4, 6, 8, 10, 12, 14, 16, 18, 20, 22, 24]\n",
      "[2, 4, 6, 8, 10, 12, 14, 16, 18, 20, 22, 24]\n",
      "[2, 4, 6, 8, 10, 12, 14, 16, 18, 20, 22, 24]\n",
      "[2, 4, 6, 8, 10, 12, 14, 16, 18, 20, 22, 24]\n",
      "[2, 4, 6, 8, 10, 12, 14, 16, 18, 20, 22, 24]\n"
     ]
    }
   ],
   "source": [
    "for num in multiplication_table:\n",
    "    print(multiplication_table)"
   ]
  },
  {
   "cell_type": "code",
   "execution_count": null,
   "id": "1c2c92b5-fb66-4eb9-b42d-c85f8fd0b0c7",
   "metadata": {},
   "outputs": [],
   "source": []
  }
 ],
 "metadata": {
  "kernelspec": {
   "display_name": "Python [conda env:base] *",
   "language": "python",
   "name": "conda-base-py"
  },
  "language_info": {
   "codemirror_mode": {
    "name": "ipython",
    "version": 3
   },
   "file_extension": ".py",
   "mimetype": "text/x-python",
   "name": "python",
   "nbconvert_exporter": "python",
   "pygments_lexer": "ipython3",
   "version": "3.12.7"
  }
 },
 "nbformat": 4,
 "nbformat_minor": 5
}
